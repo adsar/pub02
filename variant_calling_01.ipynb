{
 "cells": [
  {
   "cell_type": "markdown",
   "metadata": {},
   "source": [
    "# Variant Calling"
   ]
  },
  {
   "cell_type": "code",
   "execution_count": 1,
   "metadata": {
    "collapsed": true
   },
   "outputs": [],
   "source": [
    "import pandas as pd\n",
    "import numpy as np\n",
    "\n",
    "datapath = 'data/'\n",
    "\n",
    "def read_vcf(filename):\n",
    "    df = pd.read_csv(datapath + filename, sep='\\t')\n",
    "    \n",
    "    # filter to separate indels from snp\n",
    "    snp_only = df.apply(lambda row: len(row.REF)==1 and len(row.ALT)==1, axis=1)\n",
    "    snp = df[snp_only]\n",
    "    indels = df[~snp_only]\n",
    "    \n",
    "    print len(df), len(snp), len(indels)\n",
    "    \n",
    "    return snp, indels"
   ]
  },
  {
   "cell_type": "markdown",
   "metadata": {},
   "source": [
    "### 1. read NIST.vcf"
   ]
  },
  {
   "cell_type": "code",
   "execution_count": 2,
   "metadata": {
    "collapsed": false
   },
   "outputs": [
    {
     "name": "stdout",
     "output_type": "stream",
     "text": [
      "373001 303275 69726\n"
     ]
    },
    {
     "data": {
      "text/html": [
       "<div>\n",
       "<table border=\"1\" class=\"dataframe\">\n",
       "  <thead>\n",
       "    <tr style=\"text-align: right;\">\n",
       "      <th></th>\n",
       "      <th>CHROM</th>\n",
       "      <th>POS</th>\n",
       "      <th>REF</th>\n",
       "      <th>ALT</th>\n",
       "      <th>DP</th>\n",
       "      <th>ADR</th>\n",
       "      <th>ADA</th>\n",
       "      <th>GQ</th>\n",
       "      <th>LABEL</th>\n",
       "    </tr>\n",
       "  </thead>\n",
       "  <tbody>\n",
       "    <tr>\n",
       "      <th>0</th>\n",
       "      <td>2</td>\n",
       "      <td>11320</td>\n",
       "      <td>G</td>\n",
       "      <td>A</td>\n",
       "      <td>19</td>\n",
       "      <td>0</td>\n",
       "      <td>19</td>\n",
       "      <td>57</td>\n",
       "      <td>PASS</td>\n",
       "    </tr>\n",
       "    <tr>\n",
       "      <th>1</th>\n",
       "      <td>2</td>\n",
       "      <td>13241</td>\n",
       "      <td>T</td>\n",
       "      <td>C</td>\n",
       "      <td>39</td>\n",
       "      <td>17</td>\n",
       "      <td>22</td>\n",
       "      <td>99</td>\n",
       "      <td>PASS</td>\n",
       "    </tr>\n",
       "    <tr>\n",
       "      <th>3</th>\n",
       "      <td>2</td>\n",
       "      <td>21888</td>\n",
       "      <td>A</td>\n",
       "      <td>C</td>\n",
       "      <td>37</td>\n",
       "      <td>0</td>\n",
       "      <td>37</td>\n",
       "      <td>99</td>\n",
       "      <td>FAIL</td>\n",
       "    </tr>\n",
       "    <tr>\n",
       "      <th>4</th>\n",
       "      <td>2</td>\n",
       "      <td>30762</td>\n",
       "      <td>A</td>\n",
       "      <td>G</td>\n",
       "      <td>46</td>\n",
       "      <td>0</td>\n",
       "      <td>46</td>\n",
       "      <td>99</td>\n",
       "      <td>FAIL</td>\n",
       "    </tr>\n",
       "    <tr>\n",
       "      <th>5</th>\n",
       "      <td>2</td>\n",
       "      <td>31926</td>\n",
       "      <td>T</td>\n",
       "      <td>C</td>\n",
       "      <td>31</td>\n",
       "      <td>0</td>\n",
       "      <td>31</td>\n",
       "      <td>93</td>\n",
       "      <td>FAIL</td>\n",
       "    </tr>\n",
       "  </tbody>\n",
       "</table>\n",
       "</div>"
      ],
      "text/plain": [
       "   CHROM    POS REF ALT  DP  ADR  ADA  GQ LABEL\n",
       "0      2  11320   G   A  19    0   19  57  PASS\n",
       "1      2  13241   T   C  39   17   22  99  PASS\n",
       "3      2  21888   A   C  37    0   37  99  FAIL\n",
       "4      2  30762   A   G  46    0   46  99  FAIL\n",
       "5      2  31926   T   C  31    0   31  93  FAIL"
      ]
     },
     "execution_count": 2,
     "metadata": {},
     "output_type": "execute_result"
    }
   ],
   "source": [
    "nist2_snp, nist2_indels = read_vcf('na12878-nist.chr2')\n",
    "#nist3_snp, nist3_indels = read_vcf('na12878-nist.chr3')\n",
    "nist2_snp.head()"
   ]
  },
  {
   "cell_type": "markdown",
   "metadata": {},
   "source": [
    "### 2. read garvan.vcf"
   ]
  },
  {
   "cell_type": "code",
   "execution_count": 3,
   "metadata": {
    "collapsed": false
   },
   "outputs": [
    {
     "name": "stdout",
     "output_type": "stream",
     "text": [
      "306338 249746 56592\n"
     ]
    },
    {
     "data": {
      "text/html": [
       "<div>\n",
       "<table border=\"1\" class=\"dataframe\">\n",
       "  <thead>\n",
       "    <tr style=\"text-align: right;\">\n",
       "      <th></th>\n",
       "      <th>CHROM</th>\n",
       "      <th>POS</th>\n",
       "      <th>REF</th>\n",
       "      <th>ALT</th>\n",
       "      <th>DP</th>\n",
       "      <th>ADR</th>\n",
       "      <th>ADA</th>\n",
       "      <th>GQ</th>\n",
       "      <th>LABEL</th>\n",
       "    </tr>\n",
       "  </thead>\n",
       "  <tbody>\n",
       "    <tr>\n",
       "      <th>0</th>\n",
       "      <td>3</td>\n",
       "      <td>60596</td>\n",
       "      <td>C</td>\n",
       "      <td>A</td>\n",
       "      <td>40</td>\n",
       "      <td>0</td>\n",
       "      <td>40</td>\n",
       "      <td>99</td>\n",
       "      <td>PASS</td>\n",
       "    </tr>\n",
       "    <tr>\n",
       "      <th>1</th>\n",
       "      <td>3</td>\n",
       "      <td>61044</td>\n",
       "      <td>T</td>\n",
       "      <td>C</td>\n",
       "      <td>34</td>\n",
       "      <td>0</td>\n",
       "      <td>34</td>\n",
       "      <td>99</td>\n",
       "      <td>PASS</td>\n",
       "    </tr>\n",
       "    <tr>\n",
       "      <th>2</th>\n",
       "      <td>3</td>\n",
       "      <td>61113</td>\n",
       "      <td>A</td>\n",
       "      <td>T</td>\n",
       "      <td>30</td>\n",
       "      <td>0</td>\n",
       "      <td>30</td>\n",
       "      <td>90</td>\n",
       "      <td>PASS</td>\n",
       "    </tr>\n",
       "    <tr>\n",
       "      <th>3</th>\n",
       "      <td>3</td>\n",
       "      <td>61495</td>\n",
       "      <td>A</td>\n",
       "      <td>G</td>\n",
       "      <td>49</td>\n",
       "      <td>24</td>\n",
       "      <td>25</td>\n",
       "      <td>99</td>\n",
       "      <td>PASS</td>\n",
       "    </tr>\n",
       "    <tr>\n",
       "      <th>4</th>\n",
       "      <td>3</td>\n",
       "      <td>61762</td>\n",
       "      <td>T</td>\n",
       "      <td>A</td>\n",
       "      <td>41</td>\n",
       "      <td>17</td>\n",
       "      <td>24</td>\n",
       "      <td>99</td>\n",
       "      <td>PASS</td>\n",
       "    </tr>\n",
       "  </tbody>\n",
       "</table>\n",
       "</div>"
      ],
      "text/plain": [
       "   CHROM    POS REF ALT  DP  ADR  ADA  GQ LABEL\n",
       "0      3  60596   C   A  40    0   40  99  PASS\n",
       "1      3  61044   T   C  34    0   34  99  PASS\n",
       "2      3  61113   A   T  30    0   30  90  PASS\n",
       "3      3  61495   A   G  49   24   25  99  PASS\n",
       "4      3  61762   T   A  41   17   24  99  PASS"
      ]
     },
     "execution_count": 3,
     "metadata": {},
     "output_type": "execute_result"
    }
   ],
   "source": [
    "#garv2_snp, garv2_indels = read_vcf('na12878-garvan.chr2')\n",
    "garv3_snp, garv3_indels = read_vcf('na12878-garvan.chr3')\n",
    "garv3_snp.head()"
   ]
  },
  {
   "cell_type": "markdown",
   "metadata": {},
   "source": [
    "### 3. NIST_train = (garvan if in NIST.vcf - NIST_chr3)\n",
    "\n",
    "The NIST dataset doesn't contain the AD feature, so we need to get that column from the Garvan dataset, using an inner join."
   ]
  },
  {
   "cell_type": "code",
   "execution_count": 4,
   "metadata": {
    "collapsed": false
   },
   "outputs": [],
   "source": [
    "#ng_inner = garv_train.merge(nist_train, how='inner', copy=True, indicator=True, \n",
    "#                             fields=['CHROM', 'POS', 'REF', 'ALT'])\n",
    "\n",
    "nist_train = nist2_snp\n",
    "#nist_test = nist3_snp"
   ]
  },
  {
   "cell_type": "markdown",
   "metadata": {},
   "source": [
    "### 4. garvan_train = split(garvan.vcf - garban_chr3)"
   ]
  },
  {
   "cell_type": "code",
   "execution_count": 5,
   "metadata": {
    "collapsed": false
   },
   "outputs": [],
   "source": [
    "#garv_train = garv2_snp\n",
    "garv_test = garv3_snp"
   ]
  },
  {
   "cell_type": "markdown",
   "metadata": {},
   "source": [
    "### 5. est_neg  = (garvan_train - NIST_train),  (change to fail)"
   ]
  },
  {
   "cell_type": "code",
   "execution_count": 6,
   "metadata": {
    "collapsed": false
   },
   "outputs": [
    {
     "data": {
      "text/plain": [
       "\"joined = garv_train.merge(nist_train, how='left', on=['CHROM', 'POS', 'REF', 'ALT'], \\n                             copy=True, indicator=True)\\ngrouped = joined.groupby('_merge')\\nfor g in grouped.groups:\\n    print g\\njoined.head()\""
      ]
     },
     "execution_count": 6,
     "metadata": {},
     "output_type": "execute_result"
    }
   ],
   "source": [
    "\"\"\"joined = garv_train.merge(nist_train, how='left', on=['CHROM', 'POS', 'REF', 'ALT'], \n",
    "                             copy=True, indicator=True)\n",
    "grouped = joined.groupby('_merge')\n",
    "for g in grouped.groups:\n",
    "    print g\n",
    "joined.head()\"\"\""
   ]
  },
  {
   "cell_type": "code",
   "execution_count": 7,
   "metadata": {
    "collapsed": false
   },
   "outputs": [
    {
     "data": {
      "text/plain": [
       "\"est_neg = joined[['CHROM_x', 'POS', 'REF', 'ALT', 'DP_x', 'ADR_x', 'ADA_x', 'GQ_x', 'LABEL_x']][joined._merge!='left_only']\\nest_neg.columns = ['CHROM', 'POS', 'REF', 'ALT', 'DP', 'ADR', 'ADA', 'GQ', 'LABEL']\\nest_neg['LABEL'] = 'FAIL'\\nest_neg.head()\\njoined = None\""
      ]
     },
     "execution_count": 7,
     "metadata": {},
     "output_type": "execute_result"
    }
   ],
   "source": [
    "\"\"\"est_neg = joined[['CHROM_x', 'POS', 'REF', 'ALT', 'DP_x', 'ADR_x', 'ADA_x', 'GQ_x', 'LABEL_x']][joined._merge!='left_only']\n",
    "est_neg.columns = ['CHROM', 'POS', 'REF', 'ALT', 'DP', 'ADR', 'ADA', 'GQ', 'LABEL']\n",
    "est_neg['LABEL'] = 'FAIL'\n",
    "est_neg.head()\n",
    "joined = None\"\"\""
   ]
  },
  {
   "cell_type": "markdown",
   "metadata": {},
   "source": [
    "### 6. train = nist_train + est_neg"
   ]
  },
  {
   "cell_type": "code",
   "execution_count": 8,
   "metadata": {
    "collapsed": false
   },
   "outputs": [],
   "source": [
    "\"\"\"train = pd.concat([nist_train, est_neg])\n",
    "est_neg = None\"\"\"\n",
    "train = nist_train\n",
    "test = garv_test"
   ]
  },
  {
   "cell_type": "markdown",
   "metadata": {},
   "source": [
    "### 7. classifier = model.fit(train)"
   ]
  },
  {
   "cell_type": "code",
   "execution_count": 9,
   "metadata": {
    "collapsed": false
   },
   "outputs": [
    {
     "name": "stdout",
     "output_type": "stream",
     "text": [
      "303275 232395\n"
     ]
    }
   ],
   "source": [
    "y_train = np.array(train['LABEL']=='PASS')\n",
    "print len(y_train), sum(y_train)"
   ]
  },
  {
   "cell_type": "code",
   "execution_count": 10,
   "metadata": {
    "collapsed": false
   },
   "outputs": [],
   "source": [
    "def extract_features(obs, cols):\n",
    "    bases = ['A', 'C', 'G', 'T']\n",
    "    X = np.ndarray(shape=(len(obs), len(cols) + 2*(len(['A', 'C', 'G', 'T'])-1)))\n",
    "    i = 0\n",
    "    for ix in obs.index:\n",
    "        row = obs.ix[ix]\n",
    "        rowl = []\n",
    "        for c in cols:\n",
    "            if c in ['REF', 'ALT']:  \n",
    "                for n in bases:\n",
    "                    v = 1.0 if n==row[c] else 0.0\n",
    "                    rowl.append(v)\n",
    "            else:\n",
    "                rowl.append(row[c])\n",
    "                \n",
    "        X[i,:] = rowl\n",
    "        i += 1\n",
    "        \n",
    "    feature_names = []\n",
    "    for c in cols:\n",
    "        if c in ['REF', 'ALT']:  \n",
    "            for n in bases:\n",
    "                feature_names.append(c + '_' + n)\n",
    "        else:\n",
    "            feature_names.append(c) \n",
    "    \n",
    "    return X, feature_names "
   ]
  },
  {
   "cell_type": "code",
   "execution_count": 11,
   "metadata": {
    "collapsed": false
   },
   "outputs": [
    {
     "data": {
      "text/plain": [
       "array([[  0.,   0.,   1.,   0.,   1.,   0.,   0.,   0.,  19.,   0.,  19.,\n",
       "         57.]])"
      ]
     },
     "execution_count": 11,
     "metadata": {},
     "output_type": "execute_result"
    }
   ],
   "source": [
    "X_train1, feature_names1 = extract_features(train, ['REF', 'ALT', 'DP', 'ADR', 'ADA', 'GQ'])\n",
    "X_train1[0:1,:]"
   ]
  },
  {
   "cell_type": "code",
   "execution_count": 12,
   "metadata": {
    "collapsed": false
   },
   "outputs": [
    {
     "name": "stdout",
     "output_type": "stream",
     "text": [
      "['REF_A', 'REF_C', 'REF_G', 'REF_T', 'ALT_A', 'ALT_C', 'ALT_G', 'ALT_T', 'DP', 'ADR', 'ADA', 'GQ']\n",
      "[[-0.54622035 -0.43322379 -0.46548141 -0.53355778 -0.52518072 -0.45940458\n",
      "  -0.45596771 -0.53793031 -0.14113673  0.11606624  0.14420675  0.04589291]]\n"
     ]
    },
    {
     "name": "stderr",
     "output_type": "stream",
     "text": [
      "/home/adrian/.conda/envs/py27/lib/python2.7/site-packages/sklearn/utils/__init__.py:93: DeprecationWarning: Function transform is deprecated; Support to use estimators as feature selectors will be removed in version 0.19. Use SelectFromModel instead.\n",
      "  warnings.warn(msg, category=DeprecationWarning)\n"
     ]
    }
   ],
   "source": [
    "from sklearn.linear_model import LogisticRegression\n",
    "classifier = LogisticRegression(random_state=1)\n",
    "classifier.fit_transform(X_train1, y_train)\n",
    "print feature_names1\n",
    "print classifier.coef_"
   ]
  },
  {
   "cell_type": "markdown",
   "metadata": {},
   "source": [
    "### 8. Eval"
   ]
  },
  {
   "cell_type": "markdown",
   "metadata": {},
   "source": [
    "####    8.1   -  test = nist3 + changed_to_fail(garvan3 - nist3) "
   ]
  },
  {
   "cell_type": "code",
   "execution_count": 13,
   "metadata": {
    "collapsed": false
   },
   "outputs": [
    {
     "data": {
      "text/plain": [
       "array([[  0.,   1.,   0.,   0.,   1.,   0.,   0.,   0.,  40.,   0.,  40.,\n",
       "         99.]])"
      ]
     },
     "execution_count": 13,
     "metadata": {},
     "output_type": "execute_result"
    }
   ],
   "source": [
    "X_test1, feature_names = extract_features(garv_test, ['REF', 'ALT', 'DP', 'ADR', 'ADA', 'GQ'])\n",
    "X_test1[0:1,:]"
   ]
  },
  {
   "cell_type": "code",
   "execution_count": 14,
   "metadata": {
    "collapsed": false
   },
   "outputs": [
    {
     "name": "stdout",
     "output_type": "stream",
     "text": [
      "249746 245719 4027 Majority Class Score:  0.983875617628\n"
     ]
    }
   ],
   "source": [
    "y_test = np.array(garv_test['LABEL']=='PASS')\n",
    "print len(y_test), sum(y_test), len(y_test) - sum(y_test), \"Majority Class Score: \", sum(y_test)/float(len(y_test))"
   ]
  },
  {
   "cell_type": "markdown",
   "metadata": {},
   "source": [
    "####    8.2   -  pred_y = model.predict(test.X)"
   ]
  },
  {
   "cell_type": "code",
   "execution_count": 15,
   "metadata": {
    "collapsed": false
   },
   "outputs": [],
   "source": [
    "y_pred = classifier.predict(X_test1)"
   ]
  },
  {
   "cell_type": "markdown",
   "metadata": {},
   "source": [
    "####    8.3 - Accuracy Score "
   ]
  },
  {
   "cell_type": "code",
   "execution_count": 16,
   "metadata": {
    "collapsed": false
   },
   "outputs": [
    {
     "data": {
      "text/plain": [
       "0.96238578395649976"
      ]
     },
     "execution_count": 16,
     "metadata": {},
     "output_type": "execute_result"
    }
   ],
   "source": [
    "classifier.score(X_test1, y_test)"
   ]
  },
  {
   "cell_type": "code",
   "execution_count": 17,
   "metadata": {
    "collapsed": true
   },
   "outputs": [],
   "source": [
    "feature_names1 = None\n",
    "X_test1 = None\n",
    "classifier = None"
   ]
  },
  {
   "cell_type": "markdown",
   "metadata": {},
   "source": [
    "### Classification Metrics"
   ]
  },
  {
   "cell_type": "markdown",
   "metadata": {},
   "source": [
    " #### Confusion Matrix"
   ]
  },
  {
   "cell_type": "markdown",
   "metadata": {},
   "source": [
    " $C_{i, j}$ is equal to the number of observations known to be in group i but predicted to be in group j."
   ]
  },
  {
   "cell_type": "code",
   "execution_count": 18,
   "metadata": {
    "collapsed": false
   },
   "outputs": [
    {
     "name": "stdout",
     "output_type": "stream",
     "text": [
      "       ['0-FAIL', '1-PASS']\n",
      "True 0-FAIL [ 325 3702]\n",
      "True 1-PASS [  5692 240027]\n"
     ]
    }
   ],
   "source": [
    "from sklearn.metrics import confusion_matrix\n",
    "\n",
    "def class_error(y_true, y_pred):\n",
    "    cm = confusion_matrix(y_true, y_pred)\n",
    "    label_dict = {0: '0-FAIL', 1:'1-PASS'}\n",
    "    print '      ', label_dict.values()\n",
    "    for i in range(len(cm[:,0])):\n",
    "        print 'True', label_dict[i], cm[i,:]\n",
    "    \n",
    "    return cm\n",
    "\n",
    "cm = class_error(y_test, y_pred)"
   ]
  },
  {
   "cell_type": "markdown",
   "metadata": {},
   "source": [
    "#### Precission - Recall"
   ]
  },
  {
   "cell_type": "code",
   "execution_count": 19,
   "metadata": {
    "collapsed": false
   },
   "outputs": [
    {
     "name": "stdout",
     "output_type": "stream",
     "text": [
      "Accuracy   = 0.9624\n",
      "Precission (specificity) = 0.9848\n",
      "Recall     (sensitivity) = 0.9768\n"
     ]
    }
   ],
   "source": [
    "def precission_recall(cm):\n",
    "    tn = cm[0,0]\n",
    "    fp = cm[0,1]\n",
    "    fn = cm[1,0]\n",
    "    tp = cm[1,1]\n",
    "    acu = (tp+tn)/float(tp+fp+tn+fn)\n",
    "    pre = (tp)/float(tp+fp)\n",
    "    rec = (tp)/float(tp+fn)\n",
    "    print \"Accuracy   = %.4f\" % acu\n",
    "    print \"Precission (specificity) = %.4f\" % pre\n",
    "    print \"Recall     (sensitivity) = %.4f\" % rec\n",
    "     \n",
    "    return pre, rec\n",
    "\n",
    "p, r = precission_recall(cm)"
   ]
  },
  {
   "cell_type": "markdown",
   "metadata": {},
   "source": [
    "#### F1 score (also F-score or F-measure) \n",
    "The traditional F-measure or balanced F-score (F1 score) is the harmonic mean of precision and recall:\n",
    "\n",
    "$$F_1 = 2 \\cdot \\frac{\\mathrm{precision} \\cdot \\mathrm{recall}}{\\mathrm{precision} + \\mathrm{recall}}$$"
   ]
  },
  {
   "cell_type": "code",
   "execution_count": 20,
   "metadata": {
    "collapsed": false
   },
   "outputs": [
    {
     "name": "stdout",
     "output_type": "stream",
     "text": [
      "F_measure = 0.9808\n"
     ]
    }
   ],
   "source": [
    "def F_measure(pre, rec):\n",
    "    F_measure = 2 * pre * rec / (pre + rec)\n",
    "    print \"F_measure = %.4f\" % F_measure\n",
    "    return F_measure\n",
    "\n",
    "F1 = F_measure(p, r)"
   ]
  },
  {
   "cell_type": "markdown",
   "metadata": {},
   "source": [
    "## Adding Position as Feature"
   ]
  },
  {
   "cell_type": "code",
   "execution_count": 21,
   "metadata": {
    "collapsed": false
   },
   "outputs": [],
   "source": [
    "def get_features(df, name):\n",
    "    y = np.array(df['LABEL']=='PASS')\n",
    "    print 'y_'+name, len(y), sum(y), (len(y) - sum(y))\n",
    "    \n",
    "    X, feature_names = extract_features(df, ['POS', 'REF', 'ALT', 'DP', 'ADR', 'ADA', 'GQ'])\n",
    "    print feature_names\n",
    "    for i in range(5):  \n",
    "        print [int(xi) for xi in X[i,:]]  \n",
    "    \n",
    "    return X, y, feature_names"
   ]
  },
  {
   "cell_type": "code",
   "execution_count": 22,
   "metadata": {
    "collapsed": false
   },
   "outputs": [
    {
     "name": "stdout",
     "output_type": "stream",
     "text": [
      "y_train 303275 232395 70880\n",
      "['POS', 'REF_A', 'REF_C', 'REF_G', 'REF_T', 'ALT_A', 'ALT_C', 'ALT_G', 'ALT_T', 'DP', 'ADR', 'ADA', 'GQ']\n",
      "[11320, 0, 0, 1, 0, 1, 0, 0, 0, 19, 0, 19, 57]\n",
      "[13241, 0, 0, 0, 1, 0, 1, 0, 0, 39, 17, 22, 99]\n",
      "[21888, 1, 0, 0, 0, 0, 1, 0, 0, 37, 0, 37, 99]\n",
      "[30762, 1, 0, 0, 0, 0, 0, 1, 0, 46, 0, 46, 99]\n",
      "[31926, 0, 0, 0, 1, 0, 1, 0, 0, 31, 0, 31, 93]\n"
     ]
    }
   ],
   "source": [
    "X_train, y_train, feature_names = get_features(train, 'train')"
   ]
  },
  {
   "cell_type": "code",
   "execution_count": 23,
   "metadata": {
    "collapsed": false
   },
   "outputs": [
    {
     "name": "stdout",
     "output_type": "stream",
     "text": [
      "y_test 249746 245719 4027\n",
      "['POS', 'REF_A', 'REF_C', 'REF_G', 'REF_T', 'ALT_A', 'ALT_C', 'ALT_G', 'ALT_T', 'DP', 'ADR', 'ADA', 'GQ']\n",
      "[60596, 0, 1, 0, 0, 1, 0, 0, 0, 40, 0, 40, 99]\n",
      "[61044, 0, 0, 0, 1, 0, 1, 0, 0, 34, 0, 34, 99]\n",
      "[61113, 1, 0, 0, 0, 0, 0, 0, 1, 30, 0, 30, 90]\n",
      "[61495, 1, 0, 0, 0, 0, 0, 1, 0, 49, 24, 25, 99]\n",
      "[61762, 0, 0, 0, 1, 1, 0, 0, 0, 41, 17, 24, 99]\n"
     ]
    }
   ],
   "source": [
    "X_test, y_test, _ = get_features(test, 'test')"
   ]
  },
  {
   "cell_type": "code",
   "execution_count": 24,
   "metadata": {
    "collapsed": false
   },
   "outputs": [],
   "source": [
    "from sklearn.naive_bayes import GaussianNB\n",
    "from sklearn.linear_model import LogisticRegression\n",
    "from sklearn.ensemble import RandomForestClassifier\n",
    "from sklearn.svm import LinearSVC\n",
    "\n",
    "# Create classifiers\n",
    "lr = LogisticRegression(random_state=1)\n",
    "gnb = GaussianNB()\n",
    "svc = LinearSVC(C=1.0, random_state=1)\n",
    "rfc = RandomForestClassifier(n_estimators=100, random_state=1)"
   ]
  },
  {
   "cell_type": "code",
   "execution_count": 25,
   "metadata": {
    "collapsed": true
   },
   "outputs": [],
   "source": [
    "def eval_clf(clf, X_test, y_test):\n",
    "    print \"Majority Class Accuracy: \", sum(y_test)/float(len(y_test))    \n",
    "    y_pred = clf.predict(X_test) \n",
    "    cm = class_error(y_test, y_pred)\n",
    "    p, r = precission_recall(cm)\n",
    "    F1 = F_measure(p, r)"
   ]
  },
  {
   "cell_type": "code",
   "execution_count": 26,
   "metadata": {
    "collapsed": false
   },
   "outputs": [],
   "source": [
    "def train_clf(clf, X_train, y_train, X_test, y_test, name, feature_names):\n",
    "    clf.fit(X_train, y_train) \n",
    "    if name == 'Logistic':\n",
    "        print feature_names\n",
    "        print clf.coef_\n",
    "        print\n",
    "    print 'Eval metrics on the training data:'\n",
    "    eval_clf(clf, X_train, y_train)\n",
    "    print\n",
    "    print 'Eval metrics on the test data'\n",
    "    eval_clf(clf, X_test, y_test)\n"
   ]
  },
  {
   "cell_type": "code",
   "execution_count": 27,
   "metadata": {
    "collapsed": false
   },
   "outputs": [
    {
     "name": "stdout",
     "output_type": "stream",
     "text": [
      "\n",
      "------------------------------------------\n",
      "Training  Logistic\n",
      "['POS', 'REF_A', 'REF_C', 'REF_G', 'REF_T', 'ALT_A', 'ALT_C', 'ALT_G', 'ALT_T', 'DP', 'ADR', 'ADA', 'GQ']\n",
      "[[  7.41503786e-09   2.36169827e-17   2.70944619e-17   2.60654097e-17\n",
      "    2.38443720e-17   2.44196349e-17   2.57487877e-17   2.56206998e-17\n",
      "    2.48321039e-17   3.75730195e-15   8.69774436e-16   2.89227931e-15\n",
      "    1.04261202e-14]]\n",
      "\n",
      "Eval metrics on the training data:\n",
      "Majority Class Accuracy:  0.766284725084\n",
      "       ['0-FAIL', '1-PASS']\n",
      "True 0-FAIL [    0 70880]\n",
      "True 1-PASS [     0 232395]\n",
      "Accuracy   = 0.7663\n",
      "Precission (specificity) = 0.7663\n",
      "Recall     (sensitivity) = 1.0000\n",
      "F_measure = 0.8677\n",
      "\n",
      "Eval metrics on the test data\n",
      "Majority Class Accuracy:  0.983875617628\n",
      "       ['0-FAIL', '1-PASS']\n",
      "True 0-FAIL [   0 4027]\n",
      "True 1-PASS [     0 245719]\n",
      "Accuracy   = 0.9839\n",
      "Precission (specificity) = 0.9839\n",
      "Recall     (sensitivity) = 1.0000\n",
      "F_measure = 0.9919\n",
      "\n",
      "------------------------------------------\n",
      "Training  Random Forest\n",
      "Eval metrics on the training data:\n",
      "Majority Class Accuracy:  0.766284725084\n",
      "       ['0-FAIL', '1-PASS']\n",
      "True 0-FAIL [70863    17]\n",
      "True 1-PASS [     1 232394]\n",
      "Accuracy   = 0.9999\n",
      "Precission (specificity) = 0.9999\n",
      "Recall     (sensitivity) = 1.0000\n",
      "F_measure = 1.0000\n",
      "\n",
      "Eval metrics on the test data\n",
      "Majority Class Accuracy:  0.983875617628\n",
      "       ['0-FAIL', '1-PASS']\n",
      "True 0-FAIL [2034 1993]\n",
      "True 1-PASS [ 49520 196199]\n",
      "Accuracy   = 0.7937\n",
      "Precission (specificity) = 0.9899\n",
      "Recall     (sensitivity) = 0.7985\n",
      "F_measure = 0.8840\n",
      "\n",
      "------------------------------------------\n",
      "Training  Support Vector Classification\n",
      "Eval metrics on the training data:\n",
      "Majority Class Accuracy:  0.766284725084\n",
      "       ['0-FAIL', '1-PASS']\n",
      "True 0-FAIL [    0 70880]\n",
      "True 1-PASS [     0 232395]\n",
      "Accuracy   = 0.7663\n",
      "Precission (specificity) = 0.7663\n",
      "Recall     (sensitivity) = 1.0000\n",
      "F_measure = 0.8677\n",
      "\n",
      "Eval metrics on the test data\n",
      "Majority Class Accuracy:  0.983875617628\n",
      "       ['0-FAIL', '1-PASS']\n",
      "True 0-FAIL [   0 4027]\n",
      "True 1-PASS [     0 245719]\n",
      "Accuracy   = 0.9839\n",
      "Precission (specificity) = 0.9839\n",
      "Recall     (sensitivity) = 1.0000\n",
      "F_measure = 0.9919\n",
      "\n",
      "------------------------------------------\n",
      "Training  Naive Bayes\n",
      "Eval metrics on the training data:\n",
      "Majority Class Accuracy:  0.766284725084\n",
      "       ['0-FAIL', '1-PASS']\n",
      "True 0-FAIL [    0 70880]\n",
      "True 1-PASS [     0 232395]\n",
      "Accuracy   = 0.7663\n",
      "Precission (specificity) = 0.7663\n",
      "Recall     (sensitivity) = 1.0000\n",
      "F_measure = 0.8677\n",
      "\n",
      "Eval metrics on the test data\n",
      "Majority Class Accuracy:  0.983875617628\n",
      "       ['0-FAIL', '1-PASS']\n",
      "True 0-FAIL [   0 4027]\n",
      "True 1-PASS [     0 245719]\n",
      "Accuracy   = 0.9839\n",
      "Precission (specificity) = 0.9839\n",
      "Recall     (sensitivity) = 1.0000\n",
      "F_measure = 0.9919\n"
     ]
    }
   ],
   "source": [
    "for clf, name in [(lr, 'Logistic'),\n",
    "                  (rfc, 'Random Forest'),\n",
    "                  (svc, 'Support Vector Classification'),\n",
    "                  (gnb, 'Naive Bayes')]:\n",
    "    print '\\n------------------------------------------\\nTraining ', name    \n",
    "    train_clf(clf, X_train, y_train, X_test, y_test, name, feature_names)"
   ]
  },
  {
   "cell_type": "code",
   "execution_count": 78,
   "metadata": {
    "collapsed": false
   },
   "outputs": [],
   "source": [
    "import matplotlib.pyplot as plt\n",
    "%matplotlib inline\n",
    "\n",
    "def plot_feature_importance(forest, X, feature_names):\n",
    "    std = np.std([tree.feature_importances_ for tree in forest.estimators_],\n",
    "             axis=0)\n",
    "    \n",
    "    importances = forest.feature_importances_\n",
    "    indices = np.argsort(importances)[::-1]\n",
    "\n",
    "    # Plot the feature importances of the forest\n",
    "    plt.figure()\n",
    "    plt.title(\"Feature importances\")\n",
    "    \n",
    "    plt.bar(range(X.shape[1]), importances, color=\"r\", yerr=std[indices], align=\"center\")  \n",
    "    plt.xticks(range(X.shape[1]), feature_names)\n",
    "\n",
    "    \"\"\"    \n",
    "    plt.bar(range(X.shape[1]), importances[indices],\n",
    "           color=\"r\", yerr=std[indices], align=\"center\")\n",
    "    xheaders = [feature_names[f] for f in indices]   \n",
    "    plt.xticks(range(X.shape[1]), xheaders)\n",
    "    \"\"\"\n",
    "\n",
    "    plt.xlim([-1, X.shape[1]])\n",
    "    plt.xticks(rotation=60)\n",
    "    plt.show()\n",
    "    \n",
    "    # Print the feature ranking\n",
    "    print(\"Feature ranking:\")\n",
    "    for f in range(X.shape[1]):\n",
    "        print(\"%2d. feature %2d - %6s (%f)\" % (f + 1, indices[f], feature_names[indices[f]], importances[indices[f]]))\n"
   ]
  },
  {
   "cell_type": "code",
   "execution_count": 79,
   "metadata": {
    "collapsed": false
   },
   "outputs": [
    {
     "data": {
      "image/png": "[encoded data removed]",
      "text/plain": [
       "<matplotlib.figure.Figure at 0x7f5b8b9b6950>"
      ]
     },
     "metadata": {},
     "output_type": "display_data"
    },
    {
     "name": "stdout",
     "output_type": "stream",
     "text": [
      "Feature ranking:\n",
      " 1. feature  0 -    POS (0.680897)\n",
      " 2. feature  9 -     DP (0.108317)\n",
      " 3. feature 11 -    ADA (0.090731)\n",
      " 4. feature 10 -    ADR (0.071202)\n",
      " 5. feature 12 -     GQ (0.031488)\n",
      " 6. feature  8 -  ALT_T (0.002273)\n",
      " 7. feature  5 -  ALT_A (0.002268)\n",
      " 8. feature  6 -  ALT_C (0.002260)\n",
      " 9. feature  3 -  REF_G (0.002219)\n",
      "10. feature  7 -  ALT_G (0.002171)\n",
      "11. feature  4 -  REF_T (0.002160)\n",
      "12. feature  1 -  REF_A (0.002143)\n",
      "13. feature  2 -  REF_C (0.001872)\n"
     ]
    }
   ],
   "source": [
    "plot_feature_importance(rfc, X_train, feature_names)"
   ]
  },
  {
   "cell_type": "code",
   "execution_count": null,
   "metadata": {
    "collapsed": true
   },
   "outputs": [],
   "source": []
  }
 ],
 "metadata": {
  "kernelspec": {
   "display_name": "Python 2",
   "language": "python",
   "name": "python2"
  },
  "language_info": {
   "codemirror_mode": {
    "name": "ipython",
    "version": 2
   },
   "file_extension": ".py",
   "mimetype": "text/x-python",
   "name": "python",
   "nbconvert_exporter": "python",
   "pygments_lexer": "ipython2",
   "version": "2.7.11"
  }
 },
 "nbformat": 4,
 "nbformat_minor": 0
}
